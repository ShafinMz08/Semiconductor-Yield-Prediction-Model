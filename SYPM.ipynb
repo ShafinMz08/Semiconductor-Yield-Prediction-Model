{
  "nbformat": 4,
  "nbformat_minor": 0,
  "metadata": {
    "colab": {
      "provenance": [],
      "collapsed_sections": [
        "sekpwhXSNclq",
        "WxNUuGstNEoR",
        "0aZUSXy7Qw68",
        "UXQxDyytRDFa",
        "Hx9UbHMRPU6N",
        "OFFQMzZZP0cV"
      ],
      "authorship_tag": "ABX9TyPrSoGx8D/kmUfRfaCB8BOS",
      "include_colab_link": true
    },
    "kernelspec": {
      "name": "python3",
      "display_name": "Python 3"
    },
    "language_info": {
      "name": "python"
    }
  },
  "cells": [
    {
      "cell_type": "markdown",
      "metadata": {
        "id": "view-in-github",
        "colab_type": "text"
      },
      "source": [
        "<a href=\"https://colab.research.google.com/github/ShafinMz08/Semiconductor-Yield-Prediction-Model/blob/main/SYPM.ipynb\" target=\"_parent\"><img src=\"https://colab.research.google.com/assets/colab-badge.svg\" alt=\"Open In Colab\"/></a>"
      ]
    },
    {
      "cell_type": "markdown",
      "source": [
        "# Capstone Project: Semiconductor Manufacturing Process\n",
        "\n",
        "## Overview\n",
        "\n",
        "### **Domain**: Semiconductor Manufacturing Process  \n",
        "This project focuses on analyzing sensor data collected during a complex semiconductor manufacturing process. The goal is to predict the Pass/Fail yield of production entities while identifying the most relevant signals (features) contributing to the process outcome. Feature selection and data preprocessing play a critical role in reducing noise, improving model accuracy, and optimizing manufacturing efficiency.\n",
        "\n",
        "---\n",
        "\n",
        "### **Project Objectives**\n",
        "1. Build a classifier to predict whether a production entity will pass or fail based on sensor data.\n",
        "2. Analyze and determine whether all features are required for the model or if feature selection can improve performance.\n",
        "3. Apply preprocessing techniques such as missing value imputation, feature scaling, and target balancing to prepare the dataset for machine learning.\n",
        "\n",
        "---\n",
        "\n",
        "### **Dataset Description**\n",
        "- **File**: `signal-data.csv`  \n",
        "- **Size**: 1567 rows and 592 columns (591 features + 1 target variable)  \n",
        "- **Details**:\n",
        "  - Each row represents a production entity.\n",
        "  - Each column corresponds to a signal or measurement point.\n",
        "  - The target variable (`Pass/Fail`):\n",
        "    - `-1`: Pass\n",
        "    - `1`: Fail\n",
        "  - Includes a timestamp column (`Time`) for temporal analysis."
      ],
      "metadata": {
        "id": "tfBD6zYaMWus"
      }
    },
    {
      "cell_type": "markdown",
      "source": [
        "## Data Import and Exploration\n",
        "- **Objective**: Load the dataset and understand its structure.\n",
        "- **Actions**:\n",
        "  - Loaded the dataset `signal-data.csv`.\n",
        "  - Checked for missing values and identified columns with high missing percentages (>50%).\n",
        "- **Outcome**:\n",
        "  - Dropped columns with excessive missing values to simplify preprocessing.\n"
      ],
      "metadata": {
        "id": "sekpwhXSNclq"
      }
    },
    {
      "cell_type": "code",
      "execution_count": 2,
      "metadata": {
        "colab": {
          "base_uri": "https://localhost:8080/",
          "height": 73
        },
        "id": "M3WF2g2mgtdS",
        "outputId": "62f670ad-884f-46ef-cdc3-f572eb45b1a2"
      },
      "outputs": [
        {
          "output_type": "display_data",
          "data": {
            "text/plain": [
              "<IPython.core.display.HTML object>"
            ],
            "text/html": [
              "\n",
              "     <input type=\"file\" id=\"files-b863c136-68f3-40d2-aacb-dbfef70424e7\" name=\"files[]\" multiple disabled\n",
              "        style=\"border:none\" />\n",
              "     <output id=\"result-b863c136-68f3-40d2-aacb-dbfef70424e7\">\n",
              "      Upload widget is only available when the cell has been executed in the\n",
              "      current browser session. Please rerun this cell to enable.\n",
              "      </output>\n",
              "      <script>// Copyright 2017 Google LLC\n",
              "//\n",
              "// Licensed under the Apache License, Version 2.0 (the \"License\");\n",
              "// you may not use this file except in compliance with the License.\n",
              "// You may obtain a copy of the License at\n",
              "//\n",
              "//      http://www.apache.org/licenses/LICENSE-2.0\n",
              "//\n",
              "// Unless required by applicable law or agreed to in writing, software\n",
              "// distributed under the License is distributed on an \"AS IS\" BASIS,\n",
              "// WITHOUT WARRANTIES OR CONDITIONS OF ANY KIND, either express or implied.\n",
              "// See the License for the specific language governing permissions and\n",
              "// limitations under the License.\n",
              "\n",
              "/**\n",
              " * @fileoverview Helpers for google.colab Python module.\n",
              " */\n",
              "(function(scope) {\n",
              "function span(text, styleAttributes = {}) {\n",
              "  const element = document.createElement('span');\n",
              "  element.textContent = text;\n",
              "  for (const key of Object.keys(styleAttributes)) {\n",
              "    element.style[key] = styleAttributes[key];\n",
              "  }\n",
              "  return element;\n",
              "}\n",
              "\n",
              "// Max number of bytes which will be uploaded at a time.\n",
              "const MAX_PAYLOAD_SIZE = 100 * 1024;\n",
              "\n",
              "function _uploadFiles(inputId, outputId) {\n",
              "  const steps = uploadFilesStep(inputId, outputId);\n",
              "  const outputElement = document.getElementById(outputId);\n",
              "  // Cache steps on the outputElement to make it available for the next call\n",
              "  // to uploadFilesContinue from Python.\n",
              "  outputElement.steps = steps;\n",
              "\n",
              "  return _uploadFilesContinue(outputId);\n",
              "}\n",
              "\n",
              "// This is roughly an async generator (not supported in the browser yet),\n",
              "// where there are multiple asynchronous steps and the Python side is going\n",
              "// to poll for completion of each step.\n",
              "// This uses a Promise to block the python side on completion of each step,\n",
              "// then passes the result of the previous step as the input to the next step.\n",
              "function _uploadFilesContinue(outputId) {\n",
              "  const outputElement = document.getElementById(outputId);\n",
              "  const steps = outputElement.steps;\n",
              "\n",
              "  const next = steps.next(outputElement.lastPromiseValue);\n",
              "  return Promise.resolve(next.value.promise).then((value) => {\n",
              "    // Cache the last promise value to make it available to the next\n",
              "    // step of the generator.\n",
              "    outputElement.lastPromiseValue = value;\n",
              "    return next.value.response;\n",
              "  });\n",
              "}\n",
              "\n",
              "/**\n",
              " * Generator function which is called between each async step of the upload\n",
              " * process.\n",
              " * @param {string} inputId Element ID of the input file picker element.\n",
              " * @param {string} outputId Element ID of the output display.\n",
              " * @return {!Iterable<!Object>} Iterable of next steps.\n",
              " */\n",
              "function* uploadFilesStep(inputId, outputId) {\n",
              "  const inputElement = document.getElementById(inputId);\n",
              "  inputElement.disabled = false;\n",
              "\n",
              "  const outputElement = document.getElementById(outputId);\n",
              "  outputElement.innerHTML = '';\n",
              "\n",
              "  const pickedPromise = new Promise((resolve) => {\n",
              "    inputElement.addEventListener('change', (e) => {\n",
              "      resolve(e.target.files);\n",
              "    });\n",
              "  });\n",
              "\n",
              "  const cancel = document.createElement('button');\n",
              "  inputElement.parentElement.appendChild(cancel);\n",
              "  cancel.textContent = 'Cancel upload';\n",
              "  const cancelPromise = new Promise((resolve) => {\n",
              "    cancel.onclick = () => {\n",
              "      resolve(null);\n",
              "    };\n",
              "  });\n",
              "\n",
              "  // Wait for the user to pick the files.\n",
              "  const files = yield {\n",
              "    promise: Promise.race([pickedPromise, cancelPromise]),\n",
              "    response: {\n",
              "      action: 'starting',\n",
              "    }\n",
              "  };\n",
              "\n",
              "  cancel.remove();\n",
              "\n",
              "  // Disable the input element since further picks are not allowed.\n",
              "  inputElement.disabled = true;\n",
              "\n",
              "  if (!files) {\n",
              "    return {\n",
              "      response: {\n",
              "        action: 'complete',\n",
              "      }\n",
              "    };\n",
              "  }\n",
              "\n",
              "  for (const file of files) {\n",
              "    const li = document.createElement('li');\n",
              "    li.append(span(file.name, {fontWeight: 'bold'}));\n",
              "    li.append(span(\n",
              "        `(${file.type || 'n/a'}) - ${file.size} bytes, ` +\n",
              "        `last modified: ${\n",
              "            file.lastModifiedDate ? file.lastModifiedDate.toLocaleDateString() :\n",
              "                                    'n/a'} - `));\n",
              "    const percent = span('0% done');\n",
              "    li.appendChild(percent);\n",
              "\n",
              "    outputElement.appendChild(li);\n",
              "\n",
              "    const fileDataPromise = new Promise((resolve) => {\n",
              "      const reader = new FileReader();\n",
              "      reader.onload = (e) => {\n",
              "        resolve(e.target.result);\n",
              "      };\n",
              "      reader.readAsArrayBuffer(file);\n",
              "    });\n",
              "    // Wait for the data to be ready.\n",
              "    let fileData = yield {\n",
              "      promise: fileDataPromise,\n",
              "      response: {\n",
              "        action: 'continue',\n",
              "      }\n",
              "    };\n",
              "\n",
              "    // Use a chunked sending to avoid message size limits. See b/62115660.\n",
              "    let position = 0;\n",
              "    do {\n",
              "      const length = Math.min(fileData.byteLength - position, MAX_PAYLOAD_SIZE);\n",
              "      const chunk = new Uint8Array(fileData, position, length);\n",
              "      position += length;\n",
              "\n",
              "      const base64 = btoa(String.fromCharCode.apply(null, chunk));\n",
              "      yield {\n",
              "        response: {\n",
              "          action: 'append',\n",
              "          file: file.name,\n",
              "          data: base64,\n",
              "        },\n",
              "      };\n",
              "\n",
              "      let percentDone = fileData.byteLength === 0 ?\n",
              "          100 :\n",
              "          Math.round((position / fileData.byteLength) * 100);\n",
              "      percent.textContent = `${percentDone}% done`;\n",
              "\n",
              "    } while (position < fileData.byteLength);\n",
              "  }\n",
              "\n",
              "  // All done.\n",
              "  yield {\n",
              "    response: {\n",
              "      action: 'complete',\n",
              "    }\n",
              "  };\n",
              "}\n",
              "\n",
              "scope.google = scope.google || {};\n",
              "scope.google.colab = scope.google.colab || {};\n",
              "scope.google.colab._files = {\n",
              "  _uploadFiles,\n",
              "  _uploadFilesContinue,\n",
              "};\n",
              "})(self);\n",
              "</script> "
            ]
          },
          "metadata": {}
        },
        {
          "output_type": "stream",
          "name": "stdout",
          "text": [
            "Saving signal-data.csv to signal-data.csv\n"
          ]
        }
      ],
      "source": [
        "from google.colab import files\n",
        "uploaded = files.upload()\n"
      ]
    },
    {
      "cell_type": "code",
      "source": [
        "import pandas as pd\n",
        "import numpy as np\n",
        "import matplotlib.pyplot as plt\n",
        "import seaborn as sns\n",
        "import warnings\n",
        "warnings.filterwarnings('ignore')\n",
        "data = pd.read_csv('signal-data.csv')\n"
      ],
      "metadata": {
        "id": "dK5kd-7Hg188"
      },
      "execution_count": 7,
      "outputs": []
    },
    {
      "cell_type": "markdown",
      "source": [
        "## Data Cleansing\n",
        "- **Objective**: Handle missing values and remove unnecessary data.\n",
        "- **Actions**:\n",
        "  - Dropped columns with >50% missing values.\n",
        "  - Imputed missing values:\n",
        "    - Numerical columns: Replaced missing values with the mean.\n",
        "    - Categorical columns: Replaced missing values with the mode.\n",
        "  - Verified that no missing values remained.\n",
        "- **Outcome**:\n",
        "  - Cleaned dataset is ready for further analysis.\n"
      ],
      "metadata": {
        "id": "aKhvzGVpPLMj"
      }
    },
    {
      "cell_type": "code",
      "source": [
        "# Check for the percentage of missing values in each column\n",
        "missing_percentage = (data.isnull().sum() / len(data)) * 100\n",
        "\n",
        "# Identify columns with high missing values (e.g., >50% missing)\n",
        "high_missing_cols = missing_percentage[missing_percentage > 50].index.tolist()\n",
        "\n",
        "# Summarize columns with high missing values\n",
        "high_missing_summary = {\n",
        "    \"total_high_missing_cols\": len(high_missing_cols),\n",
        "    \"high_missing_cols\": high_missing_cols\n",
        "}\n",
        "\n",
        "# Display the top 10 columns with the highest missing values percentage\n",
        "top_missing_cols = missing_percentage.sort_values(ascending=False).head(10)\n",
        "\n",
        "high_missing_summary, top_missing_cols\n"
      ],
      "metadata": {
        "colab": {
          "base_uri": "https://localhost:8080/"
        },
        "id": "vXpW5CFD1bAp",
        "outputId": "f6d60530-340c-45c1-ec3c-bbd2c30ea429"
      },
      "execution_count": 8,
      "outputs": [
        {
          "output_type": "execute_result",
          "data": {
            "text/plain": [
              "({'total_high_missing_cols': 28,\n",
              "  'high_missing_cols': ['72',\n",
              "   '73',\n",
              "   '85',\n",
              "   '109',\n",
              "   '110',\n",
              "   '111',\n",
              "   '157',\n",
              "   '158',\n",
              "   '220',\n",
              "   '244',\n",
              "   '245',\n",
              "   '246',\n",
              "   '292',\n",
              "   '293',\n",
              "   '345',\n",
              "   '346',\n",
              "   '358',\n",
              "   '382',\n",
              "   '383',\n",
              "   '384',\n",
              "   '492',\n",
              "   '516',\n",
              "   '517',\n",
              "   '518',\n",
              "   '578',\n",
              "   '579',\n",
              "   '580',\n",
              "   '581']},\n",
              " 158    91.193363\n",
              " 292    91.193363\n",
              " 293    91.193363\n",
              " 157    91.193363\n",
              " 85     85.577537\n",
              " 492    85.577537\n",
              " 220    85.577537\n",
              " 358    85.577537\n",
              " 517    64.964901\n",
              " 245    64.964901\n",
              " dtype: float64)"
            ]
          },
          "metadata": {},
          "execution_count": 8
        }
      ]
    },
    {
      "cell_type": "code",
      "source": [
        "# Drop columns with >50% missing values\n",
        "data_cleaned = data.drop(columns=high_missing_cols)\n",
        "\n",
        "# Confirm the new shape of the dataset\n",
        "print(f\"New dataset shape after dropping columns: {data_cleaned.shape}\")\n",
        "\n"
      ],
      "metadata": {
        "id": "XhUYtLw91pGo",
        "colab": {
          "base_uri": "https://localhost:8080/"
        },
        "outputId": "57b8b916-4073-4a9f-9af4-ea46f747fcfe"
      },
      "execution_count": 9,
      "outputs": [
        {
          "output_type": "stream",
          "name": "stdout",
          "text": [
            "New dataset shape after dropping columns: (1567, 564)\n"
          ]
        }
      ]
    },
    {
      "cell_type": "code",
      "source": [
        "# Impute numerical columns with the mean\n",
        "numerical_cols = data_cleaned.select_dtypes(include=['float64', 'int64']).columns\n",
        "data_cleaned[numerical_cols] = data_cleaned[numerical_cols].fillna(data_cleaned[numerical_cols].mean())\n",
        "\n",
        "# Impute categorical columns (if any) with the mode\n",
        "categorical_cols = data_cleaned.select_dtypes(include=['object']).columns\n",
        "data_cleaned[categorical_cols] = data_cleaned[categorical_cols].fillna(data_cleaned[categorical_cols].mode().iloc[0])\n",
        "\n"
      ],
      "metadata": {
        "id": "7RFft5j0Hwlg"
      },
      "execution_count": 10,
      "outputs": []
    },
    {
      "cell_type": "code",
      "source": [
        "# Check for any remaining missing values\n",
        "print(f\"Remaining missing values: {data_cleaned.isnull().sum().sum()}\")\n"
      ],
      "metadata": {
        "id": "q3wPM5U62Wz8",
        "colab": {
          "base_uri": "https://localhost:8080/"
        },
        "outputId": "5bca0fbd-538e-4391-cc8f-8203d15c9765"
      },
      "execution_count": 11,
      "outputs": [
        {
          "output_type": "stream",
          "name": "stdout",
          "text": [
            "Remaining missing values: 0\n"
          ]
        }
      ]
    },
    {
      "cell_type": "markdown",
      "source": [
        "### Data Cleansing: Removing Duplicate Records\n",
        "- **Objective**: Ensure the dataset does not contain redundant information.\n",
        "- **Actions**:\n",
        "  - Checked for duplicate rows in the dataset.\n",
        "  - Identified the number of duplicate records.\n",
        "  - Removed duplicate rows to maintain data integrity.\n",
        "- **Outcome**:\n",
        "  - The dataset is free of duplicate records, ensuring accuracy in analysis.\n"
      ],
      "metadata": {
        "id": "ojoMfsDzSOM0"
      }
    },
    {
      "cell_type": "code",
      "source": [
        "duplicate_count = data.duplicated().sum()\n",
        "print(f\"Number of duplicate records: {duplicate_count}\")\n"
      ],
      "metadata": {
        "colab": {
          "base_uri": "https://localhost:8080/"
        },
        "id": "GYDcMAxHSNO0",
        "outputId": "4a24785d-4e60-4103-d5a4-6d0c95d41e92"
      },
      "execution_count": 41,
      "outputs": [
        {
          "output_type": "stream",
          "name": "stdout",
          "text": [
            "Number of duplicate records: 0\n"
          ]
        }
      ]
    },
    {
      "cell_type": "code",
      "source": [
        "print(data.dtypes)  # Look for 'datetime64[ns]' or similar data types\n"
      ],
      "metadata": {
        "colab": {
          "base_uri": "https://localhost:8080/"
        },
        "id": "Rh3Blu7USlch",
        "outputId": "658489ef-0140-4bfd-8405-9e0d32dbe12b"
      },
      "execution_count": 42,
      "outputs": [
        {
          "output_type": "stream",
          "name": "stdout",
          "text": [
            "Time            datetime64[ns]\n",
            "0                      float64\n",
            "1                      float64\n",
            "2                      float64\n",
            "3                      float64\n",
            "                     ...      \n",
            "Pass/Fail              float64\n",
            "day_of_week             object\n",
            "hour                     int32\n",
            "elapsed_time           float64\n",
            "day_of_week             object\n",
            "Length: 596, dtype: object\n"
          ]
        }
      ]
    },
    {
      "cell_type": "code",
      "source": [
        "print(data.columns)\n"
      ],
      "metadata": {
        "colab": {
          "base_uri": "https://localhost:8080/"
        },
        "id": "OGJo1MulSxx7",
        "outputId": "02f35e86-97ef-41e1-88c0-c5eba546b79b"
      },
      "execution_count": 43,
      "outputs": [
        {
          "output_type": "stream",
          "name": "stdout",
          "text": [
            "Index(['Time', '0', '1', '2', '3', '4', '5', '6', '7', '8',\n",
            "       ...\n",
            "       '585', '586', '587', '588', '589', 'Pass/Fail', 'day_of_week', 'hour',\n",
            "       'elapsed_time', 'day_of_week'],\n",
            "      dtype='object', length=596)\n"
          ]
        }
      ]
    },
    {
      "cell_type": "markdown",
      "source": [
        "## Feature Engineering: Time-Based Features\n",
        "- **Objective**: Extract meaningful information from the `Time` column to provide additional insights for analysis.\n",
        "- **Actions**:\n",
        "  - Converted the `Time` column to datetime format.\n",
        "  - Created new features:\n",
        "    - **Day of the Week**: Captures weekly patterns.\n",
        "    - **Hour**: Captures daily trends.\n",
        "    - **Elapsed Time**: Measures relative time from the earliest timestamp.\n",
        "- **Outcome**:\n",
        "  - The dataset now includes additional temporal features, which may improve the model's ability to capture trends.\n"
      ],
      "metadata": {
        "id": "mCHfWQSPTMh4"
      }
    },
    {
      "cell_type": "code",
      "source": [
        "data['Time'] = pd.to_datetime(data['Time'], errors='coerce')\n"
      ],
      "metadata": {
        "id": "roPwdsvKTPAD"
      },
      "execution_count": 44,
      "outputs": []
    },
    {
      "cell_type": "code",
      "source": [
        "new_columns = pd.DataFrame({\n",
        "    'day_of_week': data['Time'].dt.day_name()\n",
        "})\n",
        "data = pd.concat([data, new_columns], axis=1)\n"
      ],
      "metadata": {
        "id": "5GDGjbJDTZSL"
      },
      "execution_count": 46,
      "outputs": []
    },
    {
      "cell_type": "code",
      "source": [
        "data = data.copy()\n",
        "data['day_of_week'] = data['Time'].dt.day_name()\n"
      ],
      "metadata": {
        "id": "mh-GRFXdTZki"
      },
      "execution_count": 47,
      "outputs": []
    },
    {
      "cell_type": "code",
      "source": [
        "data['Time'] = pd.to_datetime(data['Time'], errors='coerce')\n",
        "data['day_of_week'] = data['Time'].dt.day_name()\n"
      ],
      "metadata": {
        "id": "xPBYQ6CoTwJG"
      },
      "execution_count": 48,
      "outputs": []
    },
    {
      "cell_type": "code",
      "source": [
        "data.to_csv('processed_data.csv', index=False)\n"
      ],
      "metadata": {
        "id": "TZWG70E2Twbr"
      },
      "execution_count": 49,
      "outputs": []
    },
    {
      "cell_type": "code",
      "source": [
        "data['hour'] = data['Time'].dt.hour\n"
      ],
      "metadata": {
        "id": "zxeRgiupTwsZ"
      },
      "execution_count": 50,
      "outputs": []
    },
    {
      "cell_type": "code",
      "source": [
        "# Check for duplicate records\n",
        "duplicates = data.duplicated()\n",
        "\n",
        "# Count the number of duplicates\n",
        "print(f\"Number of duplicate rows: {duplicates.sum()}\")\n",
        "\n",
        "# Preview the duplicate rows, if any\n",
        "print(data[duplicates])\n"
      ],
      "metadata": {
        "colab": {
          "base_uri": "https://localhost:8080/"
        },
        "id": "qbJc_NHdURc5",
        "outputId": "64b65f65-15e4-4d66-a420-ebdc9d88f372"
      },
      "execution_count": 51,
      "outputs": [
        {
          "output_type": "stream",
          "name": "stdout",
          "text": [
            "Number of duplicate rows: 0\n",
            "Empty DataFrame\n",
            "Columns: [Time, 0, 1, 2, 3, 4, 5, 6, 7, 8, 9, 10, 11, 12, 13, 14, 15, 16, 17, 18, 19, 20, 21, 22, 23, 24, 25, 26, 27, 28, 29, 30, 31, 32, 33, 34, 35, 36, 37, 38, 39, 40, 41, 42, 43, 44, 45, 46, 47, 48, 49, 50, 51, 52, 53, 54, 55, 56, 57, 58, 59, 60, 61, 62, 63, 64, 65, 66, 67, 68, 69, 70, 71, 72, 73, 74, 75, 76, 77, 78, 79, 80, 81, 82, 83, 84, 85, 86, 87, 88, 89, 90, 91, 92, 93, 94, 95, 96, 97, 98, ...]\n",
            "Index: []\n",
            "\n",
            "[0 rows x 597 columns]\n"
          ]
        }
      ]
    },
    {
      "cell_type": "code",
      "source": [
        "data['elapsed_time'] = (data['Time'] - data['Time'].min()).dt.total_seconds()\n"
      ],
      "metadata": {
        "id": "HbjLYi-xURt5"
      },
      "execution_count": 52,
      "outputs": []
    },
    {
      "cell_type": "code",
      "source": [
        "data.head()"
      ],
      "metadata": {
        "colab": {
          "base_uri": "https://localhost:8080/",
          "height": 429
        },
        "id": "jYs4EL9lUR4q",
        "outputId": "9904b53f-0ec8-4c4c-982d-79dfca02813e"
      },
      "execution_count": 53,
      "outputs": [
        {
          "output_type": "execute_result",
          "data": {
            "text/plain": [
              "                 Time         0         1         2         3         4    5  \\\n",
              "0 2008-07-19 11:55:00  0.469231  0.589292  0.499096  0.379841  0.000609  0.0   \n",
              "1 2008-07-19 12:32:00  0.575003  0.445535  0.666763  0.393982  0.000133  0.0   \n",
              "2 2008-07-19 13:17:00  0.308868  0.583388  0.493903  0.457065  0.000744  0.0   \n",
              "3 2008-07-19 14:43:00  0.400385  0.466998  0.543479  0.244894  0.000574  0.0   \n",
              "4 2008-07-19 15:22:00  0.471367  0.500400  0.678327  0.357067  0.000765  0.0   \n",
              "\n",
              "          6         7         8  ...       586       587       588       589  \\\n",
              "0  0.328562  0.965785  0.665019  ...       NaN       NaN       NaN       NaN   \n",
              "1  0.428942  0.969673  0.656639  ...  0.221387  0.220339  0.181159  0.282386   \n",
              "2  0.283455  0.965008  0.542759  ...  0.629073  0.589309  0.500000  0.112383   \n",
              "3  0.469123  0.946345  0.638590  ...  0.309942  0.152542  0.123188  0.100153   \n",
              "4  0.387631  0.960342  0.670606  ...  0.309942  0.152542  0.123188  0.100153   \n",
              "\n",
              "   Pass/Fail  day_of_week  hour  elapsed_time  day_of_week  day_of_week  \n",
              "0        0.0     Saturday    11    16710780.0     Saturday     Saturday  \n",
              "1        0.0     Saturday    12    16713000.0     Saturday     Saturday  \n",
              "2        1.0     Saturday    13    16715700.0     Saturday     Saturday  \n",
              "3        0.0     Saturday    14    16720860.0     Saturday     Saturday  \n",
              "4        0.0     Saturday    15    16723200.0     Saturday     Saturday  \n",
              "\n",
              "[5 rows x 597 columns]"
            ],
            "text/html": [
              "\n",
              "  <div id=\"df-c6c6d059-6906-43c7-9a81-d6e1ca538c1e\" class=\"colab-df-container\">\n",
              "    <div>\n",
              "<style scoped>\n",
              "    .dataframe tbody tr th:only-of-type {\n",
              "        vertical-align: middle;\n",
              "    }\n",
              "\n",
              "    .dataframe tbody tr th {\n",
              "        vertical-align: top;\n",
              "    }\n",
              "\n",
              "    .dataframe thead th {\n",
              "        text-align: right;\n",
              "    }\n",
              "</style>\n",
              "<table border=\"1\" class=\"dataframe\">\n",
              "  <thead>\n",
              "    <tr style=\"text-align: right;\">\n",
              "      <th></th>\n",
              "      <th>Time</th>\n",
              "      <th>0</th>\n",
              "      <th>1</th>\n",
              "      <th>2</th>\n",
              "      <th>3</th>\n",
              "      <th>4</th>\n",
              "      <th>5</th>\n",
              "      <th>6</th>\n",
              "      <th>7</th>\n",
              "      <th>8</th>\n",
              "      <th>...</th>\n",
              "      <th>586</th>\n",
              "      <th>587</th>\n",
              "      <th>588</th>\n",
              "      <th>589</th>\n",
              "      <th>Pass/Fail</th>\n",
              "      <th>day_of_week</th>\n",
              "      <th>hour</th>\n",
              "      <th>elapsed_time</th>\n",
              "      <th>day_of_week</th>\n",
              "      <th>day_of_week</th>\n",
              "    </tr>\n",
              "  </thead>\n",
              "  <tbody>\n",
              "    <tr>\n",
              "      <th>0</th>\n",
              "      <td>2008-07-19 11:55:00</td>\n",
              "      <td>0.469231</td>\n",
              "      <td>0.589292</td>\n",
              "      <td>0.499096</td>\n",
              "      <td>0.379841</td>\n",
              "      <td>0.000609</td>\n",
              "      <td>0.0</td>\n",
              "      <td>0.328562</td>\n",
              "      <td>0.965785</td>\n",
              "      <td>0.665019</td>\n",
              "      <td>...</td>\n",
              "      <td>NaN</td>\n",
              "      <td>NaN</td>\n",
              "      <td>NaN</td>\n",
              "      <td>NaN</td>\n",
              "      <td>0.0</td>\n",
              "      <td>Saturday</td>\n",
              "      <td>11</td>\n",
              "      <td>16710780.0</td>\n",
              "      <td>Saturday</td>\n",
              "      <td>Saturday</td>\n",
              "    </tr>\n",
              "    <tr>\n",
              "      <th>1</th>\n",
              "      <td>2008-07-19 12:32:00</td>\n",
              "      <td>0.575003</td>\n",
              "      <td>0.445535</td>\n",
              "      <td>0.666763</td>\n",
              "      <td>0.393982</td>\n",
              "      <td>0.000133</td>\n",
              "      <td>0.0</td>\n",
              "      <td>0.428942</td>\n",
              "      <td>0.969673</td>\n",
              "      <td>0.656639</td>\n",
              "      <td>...</td>\n",
              "      <td>0.221387</td>\n",
              "      <td>0.220339</td>\n",
              "      <td>0.181159</td>\n",
              "      <td>0.282386</td>\n",
              "      <td>0.0</td>\n",
              "      <td>Saturday</td>\n",
              "      <td>12</td>\n",
              "      <td>16713000.0</td>\n",
              "      <td>Saturday</td>\n",
              "      <td>Saturday</td>\n",
              "    </tr>\n",
              "    <tr>\n",
              "      <th>2</th>\n",
              "      <td>2008-07-19 13:17:00</td>\n",
              "      <td>0.308868</td>\n",
              "      <td>0.583388</td>\n",
              "      <td>0.493903</td>\n",
              "      <td>0.457065</td>\n",
              "      <td>0.000744</td>\n",
              "      <td>0.0</td>\n",
              "      <td>0.283455</td>\n",
              "      <td>0.965008</td>\n",
              "      <td>0.542759</td>\n",
              "      <td>...</td>\n",
              "      <td>0.629073</td>\n",
              "      <td>0.589309</td>\n",
              "      <td>0.500000</td>\n",
              "      <td>0.112383</td>\n",
              "      <td>1.0</td>\n",
              "      <td>Saturday</td>\n",
              "      <td>13</td>\n",
              "      <td>16715700.0</td>\n",
              "      <td>Saturday</td>\n",
              "      <td>Saturday</td>\n",
              "    </tr>\n",
              "    <tr>\n",
              "      <th>3</th>\n",
              "      <td>2008-07-19 14:43:00</td>\n",
              "      <td>0.400385</td>\n",
              "      <td>0.466998</td>\n",
              "      <td>0.543479</td>\n",
              "      <td>0.244894</td>\n",
              "      <td>0.000574</td>\n",
              "      <td>0.0</td>\n",
              "      <td>0.469123</td>\n",
              "      <td>0.946345</td>\n",
              "      <td>0.638590</td>\n",
              "      <td>...</td>\n",
              "      <td>0.309942</td>\n",
              "      <td>0.152542</td>\n",
              "      <td>0.123188</td>\n",
              "      <td>0.100153</td>\n",
              "      <td>0.0</td>\n",
              "      <td>Saturday</td>\n",
              "      <td>14</td>\n",
              "      <td>16720860.0</td>\n",
              "      <td>Saturday</td>\n",
              "      <td>Saturday</td>\n",
              "    </tr>\n",
              "    <tr>\n",
              "      <th>4</th>\n",
              "      <td>2008-07-19 15:22:00</td>\n",
              "      <td>0.471367</td>\n",
              "      <td>0.500400</td>\n",
              "      <td>0.678327</td>\n",
              "      <td>0.357067</td>\n",
              "      <td>0.000765</td>\n",
              "      <td>0.0</td>\n",
              "      <td>0.387631</td>\n",
              "      <td>0.960342</td>\n",
              "      <td>0.670606</td>\n",
              "      <td>...</td>\n",
              "      <td>0.309942</td>\n",
              "      <td>0.152542</td>\n",
              "      <td>0.123188</td>\n",
              "      <td>0.100153</td>\n",
              "      <td>0.0</td>\n",
              "      <td>Saturday</td>\n",
              "      <td>15</td>\n",
              "      <td>16723200.0</td>\n",
              "      <td>Saturday</td>\n",
              "      <td>Saturday</td>\n",
              "    </tr>\n",
              "  </tbody>\n",
              "</table>\n",
              "<p>5 rows × 597 columns</p>\n",
              "</div>\n",
              "    <div class=\"colab-df-buttons\">\n",
              "\n",
              "  <div class=\"colab-df-container\">\n",
              "    <button class=\"colab-df-convert\" onclick=\"convertToInteractive('df-c6c6d059-6906-43c7-9a81-d6e1ca538c1e')\"\n",
              "            title=\"Convert this dataframe to an interactive table.\"\n",
              "            style=\"display:none;\">\n",
              "\n",
              "  <svg xmlns=\"http://www.w3.org/2000/svg\" height=\"24px\" viewBox=\"0 -960 960 960\">\n",
              "    <path d=\"M120-120v-720h720v720H120Zm60-500h600v-160H180v160Zm220 220h160v-160H400v160Zm0 220h160v-160H400v160ZM180-400h160v-160H180v160Zm440 0h160v-160H620v160ZM180-180h160v-160H180v160Zm440 0h160v-160H620v160Z\"/>\n",
              "  </svg>\n",
              "    </button>\n",
              "\n",
              "  <style>\n",
              "    .colab-df-container {\n",
              "      display:flex;\n",
              "      gap: 12px;\n",
              "    }\n",
              "\n",
              "    .colab-df-convert {\n",
              "      background-color: #E8F0FE;\n",
              "      border: none;\n",
              "      border-radius: 50%;\n",
              "      cursor: pointer;\n",
              "      display: none;\n",
              "      fill: #1967D2;\n",
              "      height: 32px;\n",
              "      padding: 0 0 0 0;\n",
              "      width: 32px;\n",
              "    }\n",
              "\n",
              "    .colab-df-convert:hover {\n",
              "      background-color: #E2EBFA;\n",
              "      box-shadow: 0px 1px 2px rgba(60, 64, 67, 0.3), 0px 1px 3px 1px rgba(60, 64, 67, 0.15);\n",
              "      fill: #174EA6;\n",
              "    }\n",
              "\n",
              "    .colab-df-buttons div {\n",
              "      margin-bottom: 4px;\n",
              "    }\n",
              "\n",
              "    [theme=dark] .colab-df-convert {\n",
              "      background-color: #3B4455;\n",
              "      fill: #D2E3FC;\n",
              "    }\n",
              "\n",
              "    [theme=dark] .colab-df-convert:hover {\n",
              "      background-color: #434B5C;\n",
              "      box-shadow: 0px 1px 3px 1px rgba(0, 0, 0, 0.15);\n",
              "      filter: drop-shadow(0px 1px 2px rgba(0, 0, 0, 0.3));\n",
              "      fill: #FFFFFF;\n",
              "    }\n",
              "  </style>\n",
              "\n",
              "    <script>\n",
              "      const buttonEl =\n",
              "        document.querySelector('#df-c6c6d059-6906-43c7-9a81-d6e1ca538c1e button.colab-df-convert');\n",
              "      buttonEl.style.display =\n",
              "        google.colab.kernel.accessAllowed ? 'block' : 'none';\n",
              "\n",
              "      async function convertToInteractive(key) {\n",
              "        const element = document.querySelector('#df-c6c6d059-6906-43c7-9a81-d6e1ca538c1e');\n",
              "        const dataTable =\n",
              "          await google.colab.kernel.invokeFunction('convertToInteractive',\n",
              "                                                    [key], {});\n",
              "        if (!dataTable) return;\n",
              "\n",
              "        const docLinkHtml = 'Like what you see? Visit the ' +\n",
              "          '<a target=\"_blank\" href=https://colab.research.google.com/notebooks/data_table.ipynb>data table notebook</a>'\n",
              "          + ' to learn more about interactive tables.';\n",
              "        element.innerHTML = '';\n",
              "        dataTable['output_type'] = 'display_data';\n",
              "        await google.colab.output.renderOutput(dataTable, element);\n",
              "        const docLink = document.createElement('div');\n",
              "        docLink.innerHTML = docLinkHtml;\n",
              "        element.appendChild(docLink);\n",
              "      }\n",
              "    </script>\n",
              "  </div>\n",
              "\n",
              "\n",
              "<div id=\"df-62a3b20d-d0ad-45bc-a88f-21f1f369e2c8\">\n",
              "  <button class=\"colab-df-quickchart\" onclick=\"quickchart('df-62a3b20d-d0ad-45bc-a88f-21f1f369e2c8')\"\n",
              "            title=\"Suggest charts\"\n",
              "            style=\"display:none;\">\n",
              "\n",
              "<svg xmlns=\"http://www.w3.org/2000/svg\" height=\"24px\"viewBox=\"0 0 24 24\"\n",
              "     width=\"24px\">\n",
              "    <g>\n",
              "        <path d=\"M19 3H5c-1.1 0-2 .9-2 2v14c0 1.1.9 2 2 2h14c1.1 0 2-.9 2-2V5c0-1.1-.9-2-2-2zM9 17H7v-7h2v7zm4 0h-2V7h2v10zm4 0h-2v-4h2v4z\"/>\n",
              "    </g>\n",
              "</svg>\n",
              "  </button>\n",
              "\n",
              "<style>\n",
              "  .colab-df-quickchart {\n",
              "      --bg-color: #E8F0FE;\n",
              "      --fill-color: #1967D2;\n",
              "      --hover-bg-color: #E2EBFA;\n",
              "      --hover-fill-color: #174EA6;\n",
              "      --disabled-fill-color: #AAA;\n",
              "      --disabled-bg-color: #DDD;\n",
              "  }\n",
              "\n",
              "  [theme=dark] .colab-df-quickchart {\n",
              "      --bg-color: #3B4455;\n",
              "      --fill-color: #D2E3FC;\n",
              "      --hover-bg-color: #434B5C;\n",
              "      --hover-fill-color: #FFFFFF;\n",
              "      --disabled-bg-color: #3B4455;\n",
              "      --disabled-fill-color: #666;\n",
              "  }\n",
              "\n",
              "  .colab-df-quickchart {\n",
              "    background-color: var(--bg-color);\n",
              "    border: none;\n",
              "    border-radius: 50%;\n",
              "    cursor: pointer;\n",
              "    display: none;\n",
              "    fill: var(--fill-color);\n",
              "    height: 32px;\n",
              "    padding: 0;\n",
              "    width: 32px;\n",
              "  }\n",
              "\n",
              "  .colab-df-quickchart:hover {\n",
              "    background-color: var(--hover-bg-color);\n",
              "    box-shadow: 0 1px 2px rgba(60, 64, 67, 0.3), 0 1px 3px 1px rgba(60, 64, 67, 0.15);\n",
              "    fill: var(--button-hover-fill-color);\n",
              "  }\n",
              "\n",
              "  .colab-df-quickchart-complete:disabled,\n",
              "  .colab-df-quickchart-complete:disabled:hover {\n",
              "    background-color: var(--disabled-bg-color);\n",
              "    fill: var(--disabled-fill-color);\n",
              "    box-shadow: none;\n",
              "  }\n",
              "\n",
              "  .colab-df-spinner {\n",
              "    border: 2px solid var(--fill-color);\n",
              "    border-color: transparent;\n",
              "    border-bottom-color: var(--fill-color);\n",
              "    animation:\n",
              "      spin 1s steps(1) infinite;\n",
              "  }\n",
              "\n",
              "  @keyframes spin {\n",
              "    0% {\n",
              "      border-color: transparent;\n",
              "      border-bottom-color: var(--fill-color);\n",
              "      border-left-color: var(--fill-color);\n",
              "    }\n",
              "    20% {\n",
              "      border-color: transparent;\n",
              "      border-left-color: var(--fill-color);\n",
              "      border-top-color: var(--fill-color);\n",
              "    }\n",
              "    30% {\n",
              "      border-color: transparent;\n",
              "      border-left-color: var(--fill-color);\n",
              "      border-top-color: var(--fill-color);\n",
              "      border-right-color: var(--fill-color);\n",
              "    }\n",
              "    40% {\n",
              "      border-color: transparent;\n",
              "      border-right-color: var(--fill-color);\n",
              "      border-top-color: var(--fill-color);\n",
              "    }\n",
              "    60% {\n",
              "      border-color: transparent;\n",
              "      border-right-color: var(--fill-color);\n",
              "    }\n",
              "    80% {\n",
              "      border-color: transparent;\n",
              "      border-right-color: var(--fill-color);\n",
              "      border-bottom-color: var(--fill-color);\n",
              "    }\n",
              "    90% {\n",
              "      border-color: transparent;\n",
              "      border-bottom-color: var(--fill-color);\n",
              "    }\n",
              "  }\n",
              "</style>\n",
              "\n",
              "  <script>\n",
              "    async function quickchart(key) {\n",
              "      const quickchartButtonEl =\n",
              "        document.querySelector('#' + key + ' button');\n",
              "      quickchartButtonEl.disabled = true;  // To prevent multiple clicks.\n",
              "      quickchartButtonEl.classList.add('colab-df-spinner');\n",
              "      try {\n",
              "        const charts = await google.colab.kernel.invokeFunction(\n",
              "            'suggestCharts', [key], {});\n",
              "      } catch (error) {\n",
              "        console.error('Error during call to suggestCharts:', error);\n",
              "      }\n",
              "      quickchartButtonEl.classList.remove('colab-df-spinner');\n",
              "      quickchartButtonEl.classList.add('colab-df-quickchart-complete');\n",
              "    }\n",
              "    (() => {\n",
              "      let quickchartButtonEl =\n",
              "        document.querySelector('#df-62a3b20d-d0ad-45bc-a88f-21f1f369e2c8 button');\n",
              "      quickchartButtonEl.style.display =\n",
              "        google.colab.kernel.accessAllowed ? 'block' : 'none';\n",
              "    })();\n",
              "  </script>\n",
              "</div>\n",
              "\n",
              "    </div>\n",
              "  </div>\n"
            ],
            "application/vnd.google.colaboratory.intrinsic+json": {
              "type": "dataframe",
              "variable_name": "data"
            }
          },
          "metadata": {},
          "execution_count": 53
        }
      ]
    },
    {
      "cell_type": "code",
      "source": [],
      "metadata": {
        "id": "9wd-lb0iUSJ2"
      },
      "execution_count": null,
      "outputs": []
    },
    {
      "cell_type": "markdown",
      "source": [
        "## Target Variable Exploration\n",
        "- **Objective**: Understand the distribution of the `Pass/Fail` target variable and balance it.\n",
        "- **Actions**:\n",
        "  - Analyzed the percentage distribution of `Pass` and `Fail`.\n",
        "  - Applied SMOTE to balance the target classes.\n",
        "- **Outcome**:\n",
        "  - The dataset is balanced and ready for train-test splitting.\n"
      ],
      "metadata": {
        "id": "WxNUuGstNEoR"
      }
    },
    {
      "cell_type": "code",
      "source": [
        "# Explore the target variable 'Pass/Fail'\n",
        "target_balance = data_cleaned['Pass/Fail'].value_counts(normalize=True) * 100\n",
        "\n",
        "# Display the distribution of the target variable\n",
        "target_distribution = data_cleaned['Pass/Fail'].value_counts()\n",
        "\n",
        "target_balance, target_distribution\n"
      ],
      "metadata": {
        "colab": {
          "base_uri": "https://localhost:8080/"
        },
        "id": "xPiL-uqnH9RQ",
        "outputId": "c2edc329-8202-4535-ad37-69e68ec90a0a"
      },
      "execution_count": 12,
      "outputs": [
        {
          "output_type": "execute_result",
          "data": {
            "text/plain": [
              "(Pass/Fail\n",
              " -1    93.363114\n",
              "  1     6.636886\n",
              " Name: proportion, dtype: float64,\n",
              " Pass/Fail\n",
              " -1    1463\n",
              "  1     104\n",
              " Name: count, dtype: int64)"
            ]
          },
          "metadata": {},
          "execution_count": 12
        }
      ]
    },
    {
      "cell_type": "code",
      "source": [
        "!pip install imbalanced-learn"
      ],
      "metadata": {
        "colab": {
          "base_uri": "https://localhost:8080/"
        },
        "id": "s2wnKNLUIJPM",
        "outputId": "a71a19c3-c757-48e2-d7ab-467001728ec8"
      },
      "execution_count": 13,
      "outputs": [
        {
          "output_type": "stream",
          "name": "stdout",
          "text": [
            "Requirement already satisfied: imbalanced-learn in /usr/local/lib/python3.10/dist-packages (0.12.4)\n",
            "Requirement already satisfied: numpy>=1.17.3 in /usr/local/lib/python3.10/dist-packages (from imbalanced-learn) (1.26.4)\n",
            "Requirement already satisfied: scipy>=1.5.0 in /usr/local/lib/python3.10/dist-packages (from imbalanced-learn) (1.13.1)\n",
            "Requirement already satisfied: scikit-learn>=1.0.2 in /usr/local/lib/python3.10/dist-packages (from imbalanced-learn) (1.5.2)\n",
            "Requirement already satisfied: joblib>=1.1.1 in /usr/local/lib/python3.10/dist-packages (from imbalanced-learn) (1.4.2)\n",
            "Requirement already satisfied: threadpoolctl>=2.0.0 in /usr/local/lib/python3.10/dist-packages (from imbalanced-learn) (3.5.0)\n"
          ]
        }
      ]
    },
    {
      "cell_type": "code",
      "source": [
        "from imblearn.over_sampling import SMOTE\n",
        "\n",
        "# Separate predictors and target\n",
        "X = data_cleaned.drop(columns=['Pass/Fail', 'Time'], errors='ignore')\n",
        "y = data_cleaned['Pass/Fail']\n",
        "\n",
        "# Apply SMOTE for balancing the target variable\n",
        "smote = SMOTE(random_state=42)\n",
        "X_resampled, y_resampled = smote.fit_resample(X, y)\n",
        "\n",
        "# Check the new target distribution after balancing\n",
        "balanced_target_distribution = y_resampled.value_counts()\n",
        "\n",
        "X_resampled.shape, balanced_target_distribution\n"
      ],
      "metadata": {
        "colab": {
          "base_uri": "https://localhost:8080/"
        },
        "id": "VZ3-878KIOhm",
        "outputId": "3fb147fb-66e4-4e56-a467-1c61d555f048"
      },
      "execution_count": 14,
      "outputs": [
        {
          "output_type": "execute_result",
          "data": {
            "text/plain": [
              "((2926, 562),\n",
              " Pass/Fail\n",
              " -1    1463\n",
              "  1    1463\n",
              " Name: count, dtype: int64)"
            ]
          },
          "metadata": {},
          "execution_count": 14
        }
      ]
    },
    {
      "cell_type": "code",
      "source": [
        "# Separate predictors (X) and target (y)\n",
        "X = data_cleaned.drop(columns=['Pass/Fail', 'Time'], errors='ignore')  # Remove target and non-relevant columns\n",
        "y = data_cleaned['Pass/Fail']\n",
        "\n",
        "# Confirm the shapes of X and y\n",
        "print(f\"Predictors shape: {X.shape}\")\n",
        "print(f\"Target shape: {y.shape}\")\n"
      ],
      "metadata": {
        "colab": {
          "base_uri": "https://localhost:8080/"
        },
        "id": "n75O-bq3IT9p",
        "outputId": "b4eb2065-03dd-401f-9dcf-24615948845c"
      },
      "execution_count": 15,
      "outputs": [
        {
          "output_type": "stream",
          "name": "stdout",
          "text": [
            "Predictors shape: (1567, 562)\n",
            "Target shape: (1567,)\n"
          ]
        }
      ]
    },
    {
      "cell_type": "markdown",
      "source": [
        "## Train-Test Split and Scaling\n",
        "- **Objective**: Prepare the data for machine learning by splitting and scaling.\n",
        "- **Actions**:\n",
        "  - Performed an 80-20 stratified train-test split.\n",
        "  - Standardized features using `StandardScaler` to ensure uniform scaling.\n",
        "- **Outcome**:\n",
        "  - Training and testing datasets are prepared with scaled features.\n"
      ],
      "metadata": {
        "id": "0aZUSXy7Qw68"
      }
    },
    {
      "cell_type": "code",
      "source": [
        "from sklearn.model_selection import train_test_split\n",
        "\n",
        "# Perform train-test split on the balanced data\n",
        "X_train, X_test, y_train, y_test = train_test_split(\n",
        "    X_resampled, y_resampled, test_size=0.2, random_state=42, stratify=y_resampled\n",
        ")\n",
        "\n",
        "# Confirm the shapes of the train and test sets\n",
        "print(f\"X_train shape: {X_train.shape}\")\n",
        "print(f\"X_test shape: {X_test.shape}\")\n",
        "print(f\"y_train shape: {y_train.shape}\")\n",
        "print(f\"y_test shape: {y_test.shape}\")\n"
      ],
      "metadata": {
        "colab": {
          "base_uri": "https://localhost:8080/"
        },
        "id": "wNCtRkM1IeYw",
        "outputId": "090a8d7a-8c58-4066-8a55-9d13a5e0a97d"
      },
      "execution_count": 16,
      "outputs": [
        {
          "output_type": "stream",
          "name": "stdout",
          "text": [
            "X_train shape: (2340, 562)\n",
            "X_test shape: (586, 562)\n",
            "y_train shape: (2340,)\n",
            "y_test shape: (586,)\n"
          ]
        }
      ]
    },
    {
      "cell_type": "code",
      "source": [
        "from sklearn.preprocessing import StandardScaler\n",
        "\n",
        "# Initialize StandardScaler\n",
        "scaler = StandardScaler()\n",
        "\n",
        "# Fit on training data and transform it\n",
        "X_train_scaled = scaler.fit_transform(X_train)\n",
        "\n",
        "# Use the same scaler to transform the test data\n",
        "X_test_scaled = scaler.transform(X_test)\n"
      ],
      "metadata": {
        "id": "wjGaWmkQKQkp"
      },
      "execution_count": 34,
      "outputs": []
    },
    {
      "cell_type": "markdown",
      "source": [
        "## Data Preprocessing: Normalization of Numerical Features\n",
        "- **Objective**: Scale numerical features to ensure all features have comparable ranges.\n",
        "- **Actions**:\n",
        "  - Applied Min-Max Scaling to normalize numerical columns between 0 and 1.\n",
        "  - Ensured that all features contribute equally to model training.\n",
        "- **Outcome**:\n",
        "  - The scaled dataset is ready for model training, improving the stability and performance of algorithms.\n"
      ],
      "metadata": {
        "id": "yb0WDDiEUxV8"
      }
    },
    {
      "cell_type": "code",
      "source": [
        "numerical_cols = data.select_dtypes(include=['float64', 'int64']).columns\n"
      ],
      "metadata": {
        "id": "DW6Q-y1cVD10"
      },
      "execution_count": 54,
      "outputs": []
    },
    {
      "cell_type": "code",
      "source": [
        "from sklearn.preprocessing import StandardScaler\n",
        "scaler = StandardScaler()\n",
        "data[numerical_cols] = scaler.fit_transform(data[numerical_cols])\n"
      ],
      "metadata": {
        "id": "kPO-A7p0VD11"
      },
      "execution_count": 55,
      "outputs": []
    },
    {
      "cell_type": "code",
      "source": [
        "from sklearn.preprocessing import MinMaxScaler\n",
        "scaler = MinMaxScaler()\n",
        "data[numerical_cols] = scaler.fit_transform(data[numerical_cols])\n"
      ],
      "metadata": {
        "id": "UYVFE3YtVD12"
      },
      "execution_count": 56,
      "outputs": []
    },
    {
      "cell_type": "code",
      "source": [
        "data.to_csv('preprocessed_data.csv', index=False)\n"
      ],
      "metadata": {
        "id": "i7u5IhwQVD13"
      },
      "execution_count": 57,
      "outputs": []
    },
    {
      "cell_type": "markdown",
      "source": [
        "## Data Visualization\n",
        "- **Objective**: Validate that feature distributions remain consistent across splits.\n",
        "- **Actions**:\n",
        "  - Visualized the distribution of a selected feature across the original dataset, training set, and test set.\n",
        "- **Outcome**:\n",
        "  - Confirmed that feature distributions are consistent across splits.\n"
      ],
      "metadata": {
        "id": "UXQxDyytRDFa"
      }
    },
    {
      "cell_type": "code",
      "source": [
        "# Compare descriptive statistics\n",
        "original_stats = X_resampled.describe()\n",
        "train_stats = X_train.describe()\n",
        "test_stats = X_test.describe()\n",
        "\n",
        "# Display a summary comparison\n",
        "print(\"Original Dataset Stats:\\n\", original_stats)\n",
        "print(\"\\nTraining Dataset Stats:\\n\", train_stats)\n",
        "print(\"\\nTesting Dataset Stats:\\n\", test_stats)\n",
        "\n",
        "# Compare distributions visually\n",
        "import matplotlib.pyplot as plt\n",
        "\n",
        "feature_to_compare = '0'  # Replace with any feature name or index\n",
        "plt.figure(figsize=(12, 6))\n",
        "plt.hist(X_resampled[feature_to_compare], bins=30, alpha=0.5, label='Original')\n",
        "plt.hist(X_train[feature_to_compare], bins=30, alpha=0.5, label='Train')\n",
        "plt.hist(X_test[feature_to_compare], bins=30, alpha=0.5, label='Test')\n",
        "plt.legend()\n",
        "plt.title(f\"Distribution of Feature {feature_to_compare}\")\n",
        "plt.show()\n"
      ],
      "metadata": {
        "colab": {
          "base_uri": "https://localhost:8080/",
          "height": 1000
        },
        "id": "jqo782tXJfYc",
        "outputId": "73cd5821-3a59-4a81-fd43-dab6823d3ed1"
      },
      "execution_count": 35,
      "outputs": [
        {
          "output_type": "stream",
          "name": "stdout",
          "text": [
            "Original Dataset Stats:\n",
            "                  0            1            2            3            4  \\\n",
            "count  2926.000000  2926.000000  2926.000000  2926.000000  2926.000000   \n",
            "mean   3007.859689  2496.256970  2199.942164  1374.543110     2.847075   \n",
            "std      71.955701    71.057958    27.125623   375.449052    41.076580   \n",
            "min    2743.240000  2158.750000  2060.660000     0.000000     0.681500   \n",
            "25%    2959.860000  2458.885000  2181.667984  1106.427437     1.070000   \n",
            "50%    2997.888710  2499.150854  2198.221934  1288.085700     1.309204   \n",
            "75%    3048.412500  2534.371113  2215.179807  1572.469800     1.486900   \n",
            "max    3356.350000  2846.440000  2315.266700  3715.041700  1114.536600   \n",
            "\n",
            "            5            6            7            8            9  ...  \\\n",
            "count  2926.0  2926.000000  2926.000000  2926.000000  2926.000000  ...   \n",
            "mean    100.0   101.152701     0.122026     1.467282    -0.001848  ...   \n",
            "std       0.0     5.248408     0.006627     0.062884     0.013460  ...   \n",
            "min     100.0    82.131100     0.000000     1.191000    -0.053400  ...   \n",
            "25%     100.0    98.690513     0.121160     1.428010    -0.010300  ...   \n",
            "50%     100.0   101.355600     0.122250     1.466705    -0.002038  ...   \n",
            "75%     100.0   103.901593     0.123545     1.509956     0.005751  ...   \n",
            "max     100.0   129.252200     0.128600     1.656400     0.074900  ...   \n",
            "\n",
            "               576          577          582          583          584  \\\n",
            "count  2926.000000  2926.000000  2926.000000  2926.000000  2926.000000   \n",
            "mean      4.829119    15.586078     0.500283     0.015430     0.003862   \n",
            "std      14.662390     9.740182     0.003277     0.013102     0.002821   \n",
            "min       0.663600     4.582000     0.477800     0.006000     0.001700   \n",
            "25%       1.430347    11.552413     0.498230     0.011700     0.003100   \n",
            "50%       1.638690    13.819660     0.500400     0.013986     0.003619   \n",
            "75%       1.879300    16.611069     0.502392     0.016773     0.004107   \n",
            "max      90.423500    96.960100     0.509800     0.476600     0.104500   \n",
            "\n",
            "               585          586          587          588          589  \n",
            "count  2926.000000  2926.000000  2926.000000  2926.000000  2926.000000  \n",
            "mean      3.086266     0.021797     0.017147     0.005478    99.194052  \n",
            "std       2.719901     0.011080     0.008292     0.002650    80.554365  \n",
            "min       1.197500    -0.016900     0.003200     0.001000     0.000000  \n",
            "25%       2.344958     0.014755     0.011400     0.003619    50.065000  \n",
            "50%       2.793550     0.020988     0.015862     0.005016    76.533900  \n",
            "75%       3.351872     0.027700     0.021000     0.006735   117.576025  \n",
            "max      99.303200     0.102800     0.079900     0.028600   737.304800  \n",
            "\n",
            "[8 rows x 562 columns]\n",
            "\n",
            "Training Dataset Stats:\n",
            "                  0            1            2            3            4  \\\n",
            "count  2340.000000  2340.000000  2340.000000  2340.000000  2340.000000   \n",
            "mean   3007.448788  2495.621000  2199.757861  1367.580060     2.278350   \n",
            "std      71.015306    70.582678    26.928412   367.582957    32.469878   \n",
            "min    2743.240000  2162.870000  2060.660000   711.025800     0.681500   \n",
            "25%    2960.119627  2459.517500  2182.321068  1104.911679     1.068459   \n",
            "50%    2998.141284  2498.636758  2198.221934  1285.852094     1.307864   \n",
            "75%    3047.961918  2533.942601  2214.933300  1561.507238     1.486900   \n",
            "max    3356.350000  2846.440000  2315.266700  3715.041700  1112.160000   \n",
            "\n",
            "            5            6            7            8            9  ...  \\\n",
            "count  2340.0  2340.000000  2340.000000  2340.000000  2340.000000  ...   \n",
            "mean    100.0   101.229555     0.122090     1.468160    -0.002044  ...   \n",
            "std       0.0     5.228907     0.005917     0.062732     0.013507  ...   \n",
            "min     100.0    82.131100     0.000000     1.191000    -0.041000  ...   \n",
            "25%     100.0    98.805600     0.121130     1.429093    -0.010383  ...   \n",
            "50%     100.0   101.355600     0.122239     1.467450    -0.002200  ...   \n",
            "75%     100.0   103.936700     0.123517     1.511613     0.005601  ...   \n",
            "max     100.0   129.252200     0.128600     1.656400     0.074900  ...   \n",
            "\n",
            "               576          577          582          583          584  \\\n",
            "count  2340.000000  2340.000000  2340.000000  2340.000000  2340.000000   \n",
            "mean      4.725461    15.503035     0.500254     0.015498     0.003877   \n",
            "std      14.370006     9.400003     0.003304     0.014389     0.003108   \n",
            "min       0.898700     4.582000     0.477800     0.006500     0.002000   \n",
            "25%       1.422300    11.492428     0.498200     0.011760     0.003100   \n",
            "50%       1.632204    13.791334     0.500400     0.013959     0.003603   \n",
            "75%       1.874900    16.669102     0.502309     0.016800     0.004100   \n",
            "max      90.423500    96.960100     0.509800     0.476600     0.104500   \n",
            "\n",
            "               585          586          587          588          589  \n",
            "count  2340.000000  2340.000000  2340.000000  2340.000000  2340.000000  \n",
            "mean      3.100707     0.021918     0.017071     0.005457    98.498207  \n",
            "std       2.991032     0.011162     0.008007     0.002568    80.146906  \n",
            "min       1.284500    -0.016900     0.003200     0.001000     0.000000  \n",
            "25%       2.352546     0.014912     0.011500     0.003698    49.637357  \n",
            "50%       2.790445     0.021100     0.015893     0.005000    76.458400  \n",
            "75%       3.356650     0.027759     0.021000     0.006733   115.073059  \n",
            "max      99.303200     0.102800     0.079900     0.028600   737.304800  \n",
            "\n",
            "[8 rows x 562 columns]\n",
            "\n",
            "Testing Dataset Stats:\n",
            "                  0            1            2            3            4      5  \\\n",
            "count   586.000000   586.000000   586.000000   586.000000   586.000000  586.0   \n",
            "mean   3009.500489  2498.796507  2200.678121  1402.347782     5.118094  100.0   \n",
            "std      75.635100    72.931112    27.910586   404.479473    64.919929    0.0   \n",
            "min    2792.240000  2158.750000  2060.660000     0.000000     0.681500  100.0   \n",
            "25%    2959.277500  2457.716452  2181.062277  1112.476230     1.077846  100.0   \n",
            "50%    2995.978070  2501.140677  2198.178485  1303.507115     1.313741  100.0   \n",
            "75%    3052.114413  2535.308929  2216.494450  1595.715275     1.485955  100.0   \n",
            "max    3299.400000  2744.540000  2311.620261  3619.739700  1114.536600  100.0   \n",
            "\n",
            "                6           7           8           9  ...         576  \\\n",
            "count  586.000000  586.000000  586.000000  586.000000  ...  586.000000   \n",
            "mean   100.845811    0.121770    1.463778   -0.001065  ...    5.243045   \n",
            "std      5.319005    0.008918    0.063417    0.013255  ...   15.782219   \n",
            "min     82.131100    0.000000    1.226000   -0.053400  ...    0.663600   \n",
            "25%     98.452083    0.121200    1.424500   -0.009589  ...    1.450375   \n",
            "50%    101.442827    0.122286    1.462530   -0.001763  ...    1.677163   \n",
            "75%    103.776160    0.123666    1.503096    0.006405  ...    1.909000   \n",
            "max    119.901100    0.127600    1.653900    0.048900  ...   89.152548   \n",
            "\n",
            "              577         582         583         584         585         586  \\\n",
            "count  586.000000  586.000000  586.000000  586.000000  586.000000  586.000000   \n",
            "mean    15.917682    0.500397    0.015157    0.003803    3.028601    0.021315   \n",
            "std     10.996764    0.003165    0.005518    0.001071    1.102428    0.010744   \n",
            "min      5.098600    0.491500    0.006000    0.001700    1.197500   -0.006000   \n",
            "25%     11.663843    0.498400    0.011600    0.003100    2.315013    0.014000   \n",
            "50%     13.897900    0.500600    0.014050    0.003700    2.803900    0.020504   \n",
            "75%     16.569380    0.502500    0.016675    0.004158    3.329000    0.027368   \n",
            "max     96.960100    0.508800    0.042700    0.009200    8.564600    0.079800   \n",
            "\n",
            "              587         588         589  \n",
            "count  586.000000  586.000000  586.000000  \n",
            "mean     0.017450    0.005559  101.972682  \n",
            "std      0.009348    0.002958   82.171967  \n",
            "min      0.003200    0.001000    0.000000  \n",
            "25%      0.011117    0.003500   50.929400  \n",
            "50%      0.015730    0.005100   77.078297  \n",
            "75%      0.021042    0.006732  128.252966  \n",
            "max      0.079900    0.028600  737.304800  \n",
            "\n",
            "[8 rows x 562 columns]\n"
          ]
        },
        {
          "output_type": "display_data",
          "data": {
            "text/plain": [
              "<Figure size 1200x600 with 1 Axes>"
            ],
            "image/png": "[encoded data removed]"
          },
          "metadata": {}
        }
      ]
    }
  ]
}